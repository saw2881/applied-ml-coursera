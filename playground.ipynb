{
 "cells": [
  {
   "cell_type": "code",
   "execution_count": 6,
   "id": "98ccd68a",
   "metadata": {},
   "outputs": [
    {
     "name": "stdout",
     "output_type": "stream",
     "text": [
      "[(1, 'one'), (2, 'two'), (3, 'three'), (4, 'four'), (5, 'five')]\n"
     ]
    }
   ],
   "source": [
    "one = [1, 2, 3, 4, 5]\n",
    "two = [\"one\", \"two\", \"three\", \"four\", \"five\"]\n",
    "\n",
    "zip_iterator = zip(one, two)\n",
    "\n",
    "list_of_tuples = list(zip_iterator)\n",
    "\n",
    "print(list_of_tuples)"
   ]
  }
 ],
 "metadata": {
  "kernelspec": {
   "display_name": "Python 3",
   "language": "python",
   "name": "python3"
  },
  "language_info": {
   "codemirror_mode": {
    "name": "ipython",
    "version": 3
   },
   "file_extension": ".py",
   "mimetype": "text/x-python",
   "name": "python",
   "nbconvert_exporter": "python",
   "pygments_lexer": "ipython3",
   "version": "3.13.2"
  }
 },
 "nbformat": 4,
 "nbformat_minor": 5
}
